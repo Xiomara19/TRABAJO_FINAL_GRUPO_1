{
 "cells": [
  {
   "cell_type": "code",
   "execution_count": 1,
   "id": "129b76ce",
   "metadata": {},
   "outputs": [],
   "source": [
    "import pandas as pd\n",
    "import requests\n",
    "from bs4 import BeautifulSoup\n",
    "import re"
   ]
  },
  {
   "cell_type": "code",
   "execution_count": 2,
   "id": "f5bf1022",
   "metadata": {},
   "outputs": [],
   "source": [
    "df= pd.read_excel('02 Ch Genes ordenados con vecinos.xlsx',engine='openpyxl',sheet_name=None,skiprows=[0],usecols=range(18))"
   ]
  },
  {
   "cell_type": "code",
   "execution_count": 3,
   "id": "f6429cc4",
   "metadata": {},
   "outputs": [
    {
     "data": {
      "text/plain": [
       "['Información',\n",
       " 'C1 Milagros',\n",
       " 'C2 Wilmer',\n",
       " 'C3 Gisell',\n",
       " 'C4 Jerica',\n",
       " 'C5 Manuel',\n",
       " 'C6 Jerica',\n",
       " 'C7 Mariana',\n",
       " 'C8 Rosha',\n",
       " 'C9 Jerica',\n",
       " 'C10 Lucero',\n",
       " 'C11 Nicole',\n",
       " 'C12 Gisell',\n",
       " 'C13 Lucero',\n",
       " 'C14 Wilmer',\n",
       " 'C15Milagros',\n",
       " 'C16',\n",
       " 'C17',\n",
       " 'C18',\n",
       " 'Hoja 20',\n",
       " 'Hoja 21',\n",
       " 'Hoja 22',\n",
       " 'Hoja 23']"
      ]
     },
     "execution_count": 3,
     "metadata": {},
     "output_type": "execute_result"
    }
   ],
   "source": [
    "nombres=list(df.keys())\n",
    "nombres"
   ]
  },
  {
   "cell_type": "code",
   "execution_count": 23,
   "id": "a2bbaae9",
   "metadata": {},
   "outputs": [],
   "source": [
    "hojas=[]\n",
    "for nombre in nombres: \n",
    "    if 'Gen Abrev' in list(df.get(nombre).columns):\n",
    "        hojas.append(df.get(nombre)[df.get(nombre)['Gen Abrev'].notnull()])"
   ]
  },
  {
   "cell_type": "code",
   "execution_count": 24,
   "id": "73d39adb",
   "metadata": {},
   "outputs": [],
   "source": [
    "genes=[]\n",
    "for hoja in hojas: \n",
    "    genes.append(hoja['Gen Abrev'].tolist())"
   ]
  },
  {
   "cell_type": "code",
   "execution_count": 27,
   "id": "c02eb6ad",
   "metadata": {},
   "outputs": [
    {
     "data": {
      "text/plain": [
       "['SFI1',\n",
       " 'LOC102173595',\n",
       " 'EIF4ENIF1',\n",
       " 'DRG1',\n",
       " 'PATZ1',\n",
       " 'PIK3IP1',\n",
       " 'LIMK2',\n",
       " 'LOC108637845',\n",
       " 'CRKL',\n",
       " 'LOC108637844',\n",
       " 'RNF185',\n",
       " 'PLA2G3',\n",
       " 'INPP5J',\n",
       " 'LOC102171091',\n",
       " 'SMTN',\n",
       " 'LOC106503045',\n",
       " 'LOC102169320',\n",
       " 'MORC2',\n",
       " 'OSBP2',\n",
       " 'C17H5orf52',\n",
       " 'DUSP18',\n",
       " 'SLC35E4',\n",
       " 'TCN2',\n",
       " 'PES1',\n",
       " 'GAL3ST1',\n",
       " 'LOC102190250',\n",
       " 'LOC102169408',\n",
       " 'SEC14L3',\n",
       " 'MTFP1',\n",
       " 'SEC14L2',\n",
       " 'RNF215',\n",
       " 'CCDC157',\n",
       " 'SF3A1',\n",
       " 'TBC1D10A',\n",
       " 'GATSL3',\n",
       " 'OSM',\n",
       " 'LIF',\n",
       " 'TRNAG-CCC',\n",
       " 'HORMAD2',\n",
       " 'MTMR3',\n",
       " 'ASCC2',\n",
       " 'TRNAE-CUC',\n",
       " 'LOC102187154',\n",
       " 'ZMAT5',\n",
       " 'CABP7',\n",
       " 'NF2',\n",
       " 'NIPSNAP1',\n",
       " 'THOC5',\n",
       " 'NEFH',\n",
       " 'LOC106503044',\n",
       " 'AP1B1',\n",
       " 'RASL10A',\n",
       " 'GAS2L1',\n",
       " 'EWSR1',\n",
       " 'RHBDD3',\n",
       " 'EMID1',\n",
       " 'LOC102189423',\n",
       " 'KREMEN1',\n",
       " 'C17H22orf31',\n",
       " 'ZNRF3',\n",
       " 'XBP1',\n",
       " 'CCDC117',\n",
       " 'CMKLR1',\n",
       " 'FICD',\n",
       " 'SART3',\n",
       " 'ISCU',\n",
       " 'TMEM119',\n",
       " 'SELPLG',\n",
       " 'CORO1C',\n",
       " 'LOC106503038',\n",
       " 'SSH1',\n",
       " 'DAO',\n",
       " 'SVOP',\n",
       " 'TRNAG-UCC',\n",
       " 'USP30',\n",
       " 'ALKBH2',\n",
       " 'UNG',\n",
       " 'ACACB',\n",
       " 'FOXN4',\n",
       " 'MYO1H',\n",
       " 'KCTD10',\n",
       " 'UBE3B',\n",
       " 'MMAB',\n",
       " 'MVK',\n",
       " 'FAM222A',\n",
       " 'TRPV4',\n",
       " 'GLTP',\n",
       " 'TCHP',\n",
       " 'GIT2',\n",
       " 'ANKRD13A',\n",
       " 'LOC108637847',\n",
       " 'OASL',\n",
       " 'C17H12orf43',\n",
       " 'HNF1A',\n",
       " 'SPPL3',\n",
       " 'ACADS',\n",
       " 'UNC119B',\n",
       " 'MLEC',\n",
       " 'CABP1',\n",
       " 'POP5',\n",
       " 'RNF10',\n",
       " 'COQ5',\n",
       " 'DYNLL1',\n",
       " 'SRSF9',\n",
       " 'GATC',\n",
       " 'LOC102172376',\n",
       " 'MSI1',\n",
       " 'PLA2G1B',\n",
       " 'SIRT4',\n",
       " 'LOC102178382',\n",
       " 'PXN',\n",
       " 'RPLP0',\n",
       " 'GCN1',\n",
       " 'TRNAC-ACA',\n",
       " 'LOC108637861',\n",
       " 'RAB35',\n",
       " 'BICDL1',\n",
       " 'TRNAG-CCC',\n",
       " 'TRNAG-CCC',\n",
       " 'ALDH2',\n",
       " 'LOC108637849',\n",
       " 'MAPKAPK5',\n",
       " 'LOC108637850',\n",
       " 'LOC102177554',\n",
       " 'TMEM116',\n",
       " 'ERP29',\n",
       " 'NAA25',\n",
       " 'LOC102168285',\n",
       " 'TRAFD1',\n",
       " 'LOC108637851',\n",
       " 'HECTD4',\n",
       " 'RPL6',\n",
       " 'PTPN11',\n",
       " 'RPH3A',\n",
       " 'TRNAR-GCG',\n",
       " 'LOC108637853',\n",
       " 'LOC108637852',\n",
       " 'LOC108637854',\n",
       " 'LOC102190983',\n",
       " 'LOC102186893',\n",
       " 'SLC8B1',\n",
       " 'TPCN1',\n",
       " 'IQCD',\n",
       " 'RITA1',\n",
       " 'DDX54',\n",
       " 'CFAP73',\n",
       " 'RASAL1',\n",
       " 'MSMO1',\n",
       " 'PLBD2',\n",
       " 'SDS',\n",
       " 'SDSL',\n",
       " 'LHX5',\n",
       " 'LOC106503023',\n",
       " 'RBM19',\n",
       " 'TBX5',\n",
       " 'TBX3',\n",
       " 'TRNAY-GUA',\n",
       " 'SLC7A11',\n",
       " 'LOC108637890',\n",
       " 'TRNAE-UUC',\n",
       " 'LOC102168477',\n",
       " 'TLR2',\n",
       " 'ELF2',\n",
       " 'LOC102189891',\n",
       " 'TRNAE-CUC',\n",
       " 'MGARP',\n",
       " 'NDUFC1',\n",
       " 'NAA15',\n",
       " 'RAB33B',\n",
       " 'LOC106503018',\n",
       " 'SETD7',\n",
       " 'MGST2',\n",
       " 'LOC102189608',\n",
       " 'MAML3',\n",
       " 'TRNAC-GCA',\n",
       " 'LOC108637867',\n",
       " 'LOC108637884',\n",
       " 'TLL1',\n",
       " 'MAP9',\n",
       " 'NPY2R']"
      ]
     },
     "execution_count": 27,
     "metadata": {},
     "output_type": "execute_result"
    }
   ],
   "source": [
    "genes[16]"
   ]
  },
  {
   "cell_type": "code",
   "execution_count": 28,
   "id": "eefb4825",
   "metadata": {},
   "outputs": [],
   "source": [
    "links=[]\n",
    "for lista in genes:\n",
    "    links1=[]\n",
    "    for gen in lista: \n",
    "        if type(gen)==str:\n",
    "            url = \"https://www.uniprot.org/uniprot/?query=\"+gen+\"+Capra+Hircus&sort=score\"\n",
    "            #print(url)\n",
    "            links1.append(url)\n",
    "    links.append(links1)"
   ]
  },
  {
   "cell_type": "code",
   "execution_count": 40,
   "id": "b41a9908",
   "metadata": {},
   "outputs": [],
   "source": [
    "# Se crea una función para determinar el número de genes que se desea extraer del excel\n",
    "def num_genes():\n",
    "    #se pregunta si se desea un número exacto o todos los genes\n",
    "    x=input(\"¿Desea extraer un número exacto de genes?, S/N\")\n",
    "    #si la respuesta es si\n",
    "    if x=='S':\n",
    "        #se ingresa la cantidad de datos que se solicita\n",
    "        Ngenes=int(input(\"Ingrese el número de genes que desea extraer de cada hoja: \"))\n",
    "        return Ngenes\n",
    "    #si la respuesta es no\n",
    "    elif x=='N':\n",
    "        # se retorna un número muy grande que sobrepase la cantidad de genes en las hojas \n",
    "        return 99999999\n",
    "    # en caso de colocar una respuesta erronea se vuelve a la pregunta inicial\n",
    "    else:\n",
    "        return num_genes()"
   ]
  },
  {
   "cell_type": "code",
   "execution_count": 41,
   "id": "44cdebb8",
   "metadata": {},
   "outputs": [
    {
     "name": "stdout",
     "output_type": "stream",
     "text": [
      "¿Desea extraer un número exacto de genes?, S/Nm\n",
      "¿Desea extraer un número exacto de genes?, S/Ngf\n",
      "¿Desea extraer un número exacto de genes?, S/Nf\n",
      "¿Desea extraer un número exacto de genes?, S/Nhgfgh\n",
      "¿Desea extraer un número exacto de genes?, S/NS\n",
      "Ingrese el número de genes que desea extraer de cada hoja: 15\n",
      "Progreso de las hojas del excel\n"
     ]
    },
    {
     "data": {
      "application/vnd.jupyter.widget-view+json": {
       "model_id": "902be3b1ceb543b19d9605532212e3f6",
       "version_major": 2,
       "version_minor": 0
      },
      "text/plain": [
       "  0%|          | 0/18 [00:00<?, ?it/s]"
      ]
     },
     "metadata": {},
     "output_type": "display_data"
    },
    {
     "name": "stdout",
     "output_type": "stream",
     "text": [
      "\n",
      "Progreso de los genes en la hoja actual\n"
     ]
    },
    {
     "data": {
      "application/vnd.jupyter.widget-view+json": {
       "model_id": "c210162bd860457985947fe0685d1065",
       "version_major": 2,
       "version_minor": 0
      },
      "text/plain": [
       "  0%|          | 0/15 [00:00<?, ?it/s]"
      ]
     },
     "metadata": {},
     "output_type": "display_data"
    },
    {
     "name": "stdout",
     "output_type": "stream",
     "text": [
      "Hoja Actual: C1 Milagros     Gen actual: SLC12A890548\n",
      "Progreso de los genes en la hoja actual\n"
     ]
    },
    {
     "data": {
      "application/vnd.jupyter.widget-view+json": {
       "model_id": "778ccab8daaa425d8152cac2106f79de",
       "version_major": 2,
       "version_minor": 0
      },
      "text/plain": [
       "  0%|          | 0/15 [00:00<?, ?it/s]"
      ]
     },
     "metadata": {},
     "output_type": "display_data"
    },
    {
     "name": "stdout",
     "output_type": "stream",
     "text": [
      "Hoja Actual: C2 Wilmer     Gen actual: NECAP2179430\n",
      "Progreso de los genes en la hoja actual\n"
     ]
    },
    {
     "data": {
      "application/vnd.jupyter.widget-view+json": {
       "model_id": "316b74d224e74d43a619f89a97168d22",
       "version_major": 2,
       "version_minor": 0
      },
      "text/plain": [
       "  0%|          | 0/15 [00:00<?, ?it/s]"
      ]
     },
     "metadata": {},
     "output_type": "display_data"
    },
    {
     "name": "stdout",
     "output_type": "stream",
     "text": [
      "Hoja Actual: C3 Gisell     Gen actual: ATG4B8633807\n",
      "Progreso de los genes en la hoja actual\n"
     ]
    },
    {
     "data": {
      "application/vnd.jupyter.widget-view+json": {
       "model_id": "10d843d98c2145d8b3e9a3417049cc63",
       "version_major": 2,
       "version_minor": 0
      },
      "text/plain": [
       "  0%|          | 0/15 [00:00<?, ?it/s]"
      ]
     },
     "metadata": {},
     "output_type": "display_data"
    },
    {
     "name": "stdout",
     "output_type": "stream",
     "text": [
      "Hoja Actual: C4 Jerica     Gen actual: PRKAG2583393\n",
      "Progreso de los genes en la hoja actual\n"
     ]
    },
    {
     "data": {
      "application/vnd.jupyter.widget-view+json": {
       "model_id": "817de02c24ec43ffbdde2f76f72995f8",
       "version_major": 2,
       "version_minor": 0
      },
      "text/plain": [
       "  0%|          | 0/15 [00:00<?, ?it/s]"
      ]
     },
     "metadata": {},
     "output_type": "display_data"
    },
    {
     "name": "stdout",
     "output_type": "stream",
     "text": [
      "Hoja Actual: C5 Manuel     Gen actual: HOXC66502088\n",
      "Progreso de los genes en la hoja actual\n"
     ]
    },
    {
     "data": {
      "application/vnd.jupyter.widget-view+json": {
       "model_id": "7777dc947afb4b11b25e1e4f9219e021",
       "version_major": 2,
       "version_minor": 0
      },
      "text/plain": [
       "  0%|          | 0/15 [00:00<?, ?it/s]"
      ]
     },
     "metadata": {},
     "output_type": "display_data"
    },
    {
     "name": "stdout",
     "output_type": "stream",
     "text": [
      "Hoja Actual: C6 Jerica     Gen actual: SPP128636216\n",
      "Progreso de los genes en la hoja actual\n"
     ]
    },
    {
     "data": {
      "application/vnd.jupyter.widget-view+json": {
       "model_id": "ffc4368a59e1409d80e98dd7447b0d70",
       "version_major": 2,
       "version_minor": 0
      },
      "text/plain": [
       "  0%|          | 0/15 [00:00<?, ?it/s]"
      ]
     },
     "metadata": {},
     "output_type": "display_data"
    },
    {
     "name": "stdout",
     "output_type": "stream",
     "text": [
      "Hoja Actual: C7 Mariana     Gen actual: TRC-GCA7-123\n",
      "Progreso de los genes en la hoja actual\n"
     ]
    },
    {
     "data": {
      "application/vnd.jupyter.widget-view+json": {
       "model_id": "ffa068161bb1406bbcfa6a52442ce1a4",
       "version_major": 2,
       "version_minor": 0
      },
      "text/plain": [
       "  0%|          | 0/15 [00:00<?, ?it/s]"
      ]
     },
     "metadata": {},
     "output_type": "display_data"
    },
    {
     "name": "stdout",
     "output_type": "stream",
     "text": [
      "Hoja Actual: C8 Rosha     Gen actual: RIC1TSL1A668\n",
      "Progreso de los genes en la hoja actual\n"
     ]
    },
    {
     "data": {
      "application/vnd.jupyter.widget-view+json": {
       "model_id": "150a5d937c3d4f918f6bc0dd1ba1ed1c",
       "version_major": 2,
       "version_minor": 0
      },
      "text/plain": [
       "  0%|          | 0/15 [00:00<?, ?it/s]"
      ]
     },
     "metadata": {},
     "output_type": "display_data"
    },
    {
     "name": "stdout",
     "output_type": "stream",
     "text": [
      "Hoja Actual: C9 Jerica     Gen actual: CRYBG1180126\n",
      "Progreso de los genes en la hoja actual\n"
     ]
    },
    {
     "data": {
      "application/vnd.jupyter.widget-view+json": {
       "model_id": "a651d31926884f0a877a27d0f2e8fa44",
       "version_major": 2,
       "version_minor": 0
      },
      "text/plain": [
       "  0%|          | 0/15 [00:00<?, ?it/s]"
      ]
     },
     "metadata": {},
     "output_type": "display_data"
    },
    {
     "name": "stdout",
     "output_type": "stream",
     "text": [
      "Hoja Actual: C10 Lucero     Gen actual: FOXN38636919\n",
      "Progreso de los genes en la hoja actual\n"
     ]
    },
    {
     "data": {
      "application/vnd.jupyter.widget-view+json": {
       "model_id": "8c0832eb4df14904b72d47b63dfd9ca6",
       "version_major": 2,
       "version_minor": 0
      },
      "text/plain": [
       "  0%|          | 0/15 [00:00<?, ?it/s]"
      ]
     },
     "metadata": {},
     "output_type": "display_data"
    },
    {
     "name": "stdout",
     "output_type": "stream",
     "text": [
      "Hoja Actual: C11 Nicole     Gen actual: ZNF514173309\n",
      "Progreso de los genes en la hoja actual\n"
     ]
    },
    {
     "data": {
      "application/vnd.jupyter.widget-view+json": {
       "model_id": "31934f5ba1824abc8379ca1df14c9f4e",
       "version_major": 2,
       "version_minor": 0
      },
      "text/plain": [
       "  0%|          | 0/15 [00:00<?, ?it/s]"
      ]
     },
     "metadata": {},
     "output_type": "display_data"
    },
    {
     "name": "stdout",
     "output_type": "stream",
     "text": [
      "Hoja Actual: C12 Gisell     Gen actual: LOC102177727\n",
      "Progreso de los genes en la hoja actual\n"
     ]
    },
    {
     "data": {
      "application/vnd.jupyter.widget-view+json": {
       "model_id": "9318ac023c76452b812377cffdad1f3d",
       "version_major": 2,
       "version_minor": 0
      },
      "text/plain": [
       "  0%|          | 0/15 [00:00<?, ?it/s]"
      ]
     },
     "metadata": {},
     "output_type": "display_data"
    },
    {
     "name": "stdout",
     "output_type": "stream",
     "text": [
      "Hoja Actual: C13 Lucero     Gen actual: NINL02170614\n",
      "Progreso de los genes en la hoja actual\n"
     ]
    },
    {
     "data": {
      "application/vnd.jupyter.widget-view+json": {
       "model_id": "c9fac103df754d3ab74ac03dbe3887b1",
       "version_major": 2,
       "version_minor": 0
      },
      "text/plain": [
       "  0%|          | 0/15 [00:00<?, ?it/s]"
      ]
     },
     "metadata": {},
     "output_type": "display_data"
    },
    {
     "name": "stdout",
     "output_type": "stream",
     "text": [
      "Hoja Actual: C14 Wilmer     Gen actual: TRNAC-GCA517\n",
      "Progreso de los genes en la hoja actual\n"
     ]
    },
    {
     "data": {
      "application/vnd.jupyter.widget-view+json": {
       "model_id": "3d5f5a0cefd44e179818f728e41eda63",
       "version_major": 2,
       "version_minor": 0
      },
      "text/plain": [
       "  0%|          | 0/15 [00:00<?, ?it/s]"
      ]
     },
     "metadata": {},
     "output_type": "display_data"
    },
    {
     "name": "stdout",
     "output_type": "stream",
     "text": [
      "Hoja Actual: C15Milagros     Gen actual: LOC102176713\n",
      "Progreso de los genes en la hoja actual\n"
     ]
    },
    {
     "data": {
      "application/vnd.jupyter.widget-view+json": {
       "model_id": "d71e61f2eb6a4746af6f69b56124a12b",
       "version_major": 2,
       "version_minor": 0
      },
      "text/plain": [
       "  0%|          | 0/15 [00:00<?, ?it/s]"
      ]
     },
     "metadata": {},
     "output_type": "display_data"
    },
    {
     "name": "stdout",
     "output_type": "stream",
     "text": [
      "Hoja Actual: C16     Gen actual: LOC102190981\n",
      "Progreso de los genes en la hoja actual\n"
     ]
    },
    {
     "data": {
      "application/vnd.jupyter.widget-view+json": {
       "model_id": "b0dd6f730bd149aab7f151781f7a302f",
       "version_major": 2,
       "version_minor": 0
      },
      "text/plain": [
       "  0%|          | 0/15 [00:00<?, ?it/s]"
      ]
     },
     "metadata": {},
     "output_type": "display_data"
    },
    {
     "name": "stdout",
     "output_type": "stream",
     "text": [
      "Hoja Actual: C17     Gen actual: SMTN02171091\n",
      "Progreso de los genes en la hoja actual\n"
     ]
    },
    {
     "data": {
      "application/vnd.jupyter.widget-view+json": {
       "model_id": "132bb00ca6004ec6901be2e483d6b9eb",
       "version_major": 2,
       "version_minor": 0
      },
      "text/plain": [
       "  0%|          | 0/15 [00:00<?, ?it/s]"
      ]
     },
     "metadata": {},
     "output_type": "display_data"
    },
    {
     "name": "stdout",
     "output_type": "stream",
     "text": [
      "Hoja Actual: C18     Gen actual: LOC102184183"
     ]
    }
   ],
   "source": [
    "from tqdm.notebook import tqdm\n",
    "writer = pd.ExcelWriter('GenesRepository.xlsx', engine='openpyxl')\n",
    "#Se llama a la función en una variable \n",
    "n_genes=num_genes()\n",
    "print(\"Progreso de las hojas del excel\")\n",
    "for j in tqdm(range(len(links))):#se va de hoja en hoja \n",
    "    lista = links[j]\n",
    "    htmlList=[]\n",
    "    datos=[]\n",
    "    print(\"\\nProgreso de los genes en la hoja actual\")\n",
    "    #Se solicita el mínimo de entre la cantidad de elementos de la lista y la cantidad de genes solicitados \n",
    "    for i in tqdm(range(min(len(lista),n_genes))):#Se va de gen en gen \n",
    "        print(\"\\rHoja Actual: \"+nombres[j+1]+\"     Gen actual: \"+genes[j][i],end=\"\")\n",
    "        link=lista[i]\n",
    "        r = requests.get(link)\n",
    "        soup = BeautifulSoup(r.text, 'lxml')\n",
    "        html=soup\n",
    "        datos1=[]\n",
    "        if html.find(\"td\",{\"class\":\"entryID\"})!=None:\n",
    "            datos1.append(html.find(\"td\",{'class':\"entryID\"}).a.text)\n",
    "            datos1.append(html.find(\"td\",{'class':\"entryID\"}).find_next_sibling(\"td\").text)\n",
    "            link='https://www.uniprot.org'+html.find(\"td\",{'class':\"entryID\"}).a['href']\n",
    "            r1=requests.get(link)\n",
    "            soup1=BeautifulSoup(r1.text, 'lxml')\n",
    "            datos1.append(soup1.find(\"div\",{'id':\"content-protein\"}).h1.text)\n",
    "            if soup1.find(\"div\",{'id':\"content-gene\"}).h2!=None:\n",
    "                datos1.append(soup1.find(\"div\",{'id':\"content-gene\"}).h2.text)\n",
    "            else:\n",
    "                datos1.append(None)\n",
    "            datos1.append(soup1.find(\"div\",{'id':\"content-organism\"}).text.split(\" (\")[0])\n",
    "            datos1.append(soup1.find(\"div\",{'id':\"content-status\"}).a.text)\n",
    "            tag = soup1.find(lambda tag:tag.name==\"h4\" and \"GO - Biological process\" in tag.text)\n",
    "            if(tag==None):\n",
    "                datos1.append(None)\n",
    "            else: \n",
    "                lists= tag.next_sibling\n",
    "                listaTemp=[]\n",
    "                for l in lists:\n",
    "                    listaTemp.append(l.text.split(\" Source\")[0])\n",
    "                datos1.append(\",\".join(listaTemp))\n",
    "        datos.append(datos1)\n",
    "    df_datos=pd.DataFrame(datos, columns=[\"Entry\",\"Entry name\",\"Protein\",\"Gene\",\"Organism\",\"Status\",\"GO - Biological process\"])\n",
    "    df_genes=pd.DataFrame(genes[j],columns=[\"Gen Abrev\"])\n",
    "    df_final=pd.concat([df_genes.head(20),df_datos],axis=1)\n",
    "    df_final.index.name='N°'\n",
    "    df_final=df_final.fillna(value='NaN')\n",
    "    df_final.to_excel(writer,sheet_name=nombres[j+1])\n",
    "    writer.save()"
   ]
  },
  {
   "cell_type": "code",
   "execution_count": null,
   "id": "32a82bf8",
   "metadata": {},
   "outputs": [],
   "source": []
  }
 ],
 "metadata": {
  "kernelspec": {
   "display_name": "Python 3 (ipykernel)",
   "language": "python",
   "name": "python3"
  },
  "language_info": {
   "codemirror_mode": {
    "name": "ipython",
    "version": 3
   },
   "file_extension": ".py",
   "mimetype": "text/x-python",
   "name": "python",
   "nbconvert_exporter": "python",
   "pygments_lexer": "ipython3",
   "version": "3.8.11"
  }
 },
 "nbformat": 4,
 "nbformat_minor": 5
}
